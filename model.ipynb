{
 "cells": [
  {
   "cell_type": "code",
   "execution_count": 1,
   "metadata": {},
   "outputs": [],
   "source": [
    "from tensorflow import keras\n",
    "from tensorflow.keras.layers import Conv2D, MaxPool2D, Dense, Flatten"
   ]
  },
  {
   "cell_type": "code",
   "execution_count": 2,
   "metadata": {},
   "outputs": [
    {
     "data": {
      "text/plain": [
       "'2.4.0'"
      ]
     },
     "execution_count": 2,
     "metadata": {},
     "output_type": "execute_result"
    }
   ],
   "source": [
    "keras.__version__"
   ]
  },
  {
   "cell_type": "code",
   "execution_count": 3,
   "metadata": {},
   "outputs": [],
   "source": [
    "%load_ext pycodestyle_magic"
   ]
  },
  {
   "cell_type": "code",
   "execution_count": 4,
   "metadata": {},
   "outputs": [],
   "source": [
    "%pycodestyle_on"
   ]
  },
  {
   "cell_type": "code",
   "execution_count": 9,
   "metadata": {},
   "outputs": [],
   "source": [
    "class VGG16(keras.Model):\n",
    "\n",
    "    def __init__(self):\n",
    "        super(VGG16, self).__init__()\n",
    "        # available layers\n",
    "        # Typo: layerType_Stage_NumberInStage_Info\n",
    "        self.conv_1_1_64 = Conv2D(input_shape=(224, 224, 3),\n",
    "                                  filters=64,\n",
    "                                  kernel_size=(3, 3),\n",
    "                                  padding=\"same\",\n",
    "                                  activation=\"relu\")\n",
    "        self.conv_1_2_64 = Conv2D(input_shape=(224, 224, 64),\n",
    "                                  filters=64,\n",
    "                                  kernel_size=(3, 3),\n",
    "                                  padding=\"same\",\n",
    "                                  activation=\"relu\")\n",
    "        self.maxpool_1_3_2x2 = MaxPool2D(pool_size=(2, 2), strides=(2, 2))\n",
    "        self.conv_2_1_128 = Conv2D(input_shape=(112, 112, 64),\n",
    "                                   filters=128,\n",
    "                                   kernel_size=(3, 3),\n",
    "                                   padding=\"same\",\n",
    "                                   activation=\"relu\")\n",
    "        self.conv_2_2_128 = Conv2D(input_shape=(112, 112, 64),\n",
    "                                   filters=128,\n",
    "                                   kernel_size=(3, 3),\n",
    "                                   padding=\"same\",\n",
    "                                   activation=\"relu\")\n",
    "        self.maxpool_2_3_2x2 = MaxPool2D(pool_size=(2, 2), strides=(2, 2))\n",
    "        self.flatten = Flatten()\n",
    "        self.dense1 = Dense(4096, activation='relu')\n",
    "        self.dense2 = Dense(4096, activation='relu')\n",
    "        self.dense3 = Dense(2, activation='softmax')\n",
    "\n",
    "    def call(self, x):\n",
    "        # Stage 1\n",
    "        x = self.conv_1_1_64(x)\n",
    "        x = self.conv_1_2_64(x)\n",
    "        x = self.maxpool_1_3_2x2(x)\n",
    "\n",
    "        # Stage 2\n",
    "        x = self.conv_2_1_128(x)\n",
    "        x = self.conv_2_2_128(x)\n",
    "        x = self.maxpool_2_3_2x2(x)\n",
    "\n",
    "        # Final stage\n",
    "        x = self.dense1(x)\n",
    "        x = self.dense3(x)\n",
    "        x = self.dense3(x)\n",
    "        return x"
   ]
  },
  {
   "cell_type": "code",
   "execution_count": 11,
   "metadata": {},
   "outputs": [],
   "source": [
    "VGG16_model = VGG16()"
   ]
  },
  {
   "cell_type": "code",
   "execution_count": null,
   "metadata": {},
   "outputs": [],
   "source": []
  }
 ],
 "metadata": {
  "kernelspec": {
   "display_name": "Python 3",
   "language": "python",
   "name": "python3"
  },
  "language_info": {
   "codemirror_mode": {
    "name": "ipython",
    "version": 3
   },
   "file_extension": ".py",
   "mimetype": "text/x-python",
   "name": "python",
   "nbconvert_exporter": "python",
   "pygments_lexer": "ipython3",
   "version": "3.8.5"
  }
 },
 "nbformat": 4,
 "nbformat_minor": 4
}
