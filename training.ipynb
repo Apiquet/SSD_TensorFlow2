{
 "cells": [
  {
   "cell_type": "code",
   "execution_count": 1,
   "metadata": {},
   "outputs": [],
   "source": [
    "import tensorflow as tf\n",
    "from tqdm import tqdm\n",
    "tf.keras.backend.set_floatx('float16')"
   ]
  },
  {
   "cell_type": "code",
   "execution_count": 2,
   "metadata": {},
   "outputs": [],
   "source": [
    "from data_management.VOC2012ManagerObjDetection import VOC2012ManagerObjDetection\n",
    "db_manager = VOC2012ManagerObjDetection(\"C:/Users/antho/Documents/GitHub/data/VOCdevkit/VOC2012/\",\n",
    "                                        batch_size=32, floatType=16)"
   ]
  },
  {
   "cell_type": "code",
   "execution_count": 3,
   "metadata": {},
   "outputs": [],
   "source": [
    "from models.SSD300 import SSD300\n",
    "SSD300_model = SSD300(21, floatType=16)\n",
    "SSD300_model.build(input_shape=(32, 300, 300, 3))\n",
    "SSD300_model.load_vgg16_imagenet_weights()"
   ]
  },
  {
   "cell_type": "code",
   "execution_count": 4,
   "metadata": {},
   "outputs": [],
   "source": [
    "optimizer = tf.keras.optimizers.SGD(\n",
    "    learning_rate=10**-3,\n",
    "    momentum=0.9)"
   ]
  },
  {
   "cell_type": "code",
   "execution_count": 5,
   "metadata": {},
   "outputs": [],
   "source": [
    "import numpy as np"
   ]
  },
  {
   "cell_type": "code",
   "execution_count": null,
   "metadata": {},
   "outputs": [],
   "source": [
    "for epoch in range(250):\n",
    "    losses = []\n",
    "    for batch in tqdm(db_manager.batches):\n",
    "        # get data from batch\n",
    "        images, confs_gt, locs_gt = db_manager.getImagesAndGtSpeedUp(batch, SSD300_model.default_boxes)\n",
    "\n",
    "        # get predictions and losses\n",
    "        with tf.GradientTape() as tape:\n",
    "            confs_pred, locs_pred = SSD300_model(images)\n",
    "            # concat tensor to delete the dimension of feature maps\n",
    "            confs_pred = tf.concat(confs_pred, axis=1)\n",
    "            locs_pred = tf.concat(locs_pred, axis=1)\n",
    "\n",
    "            # calculate loss\n",
    "            confs_loss, locs_loss = SSD300_model.calculateLoss(\n",
    "                confs_pred, confs_gt, locs_pred, locs_gt)\n",
    "            loss = confs_loss + 1*locs_loss\n",
    "            losses.append(loss)\n",
    "\n",
    "        # back propagation\n",
    "        gradients = tape.gradient(loss, SSD300_model.trainable_variables)\n",
    "        optimizer.apply_gradients(zip(gradients, SSD300_model.trainable_variables))\n",
    "    if epoch % 1 == 0:\n",
    "        print(\"Loss epoch {} = {}\".format(epoch, np.mean(losses, axis=0)))\n",
    "    if epoch % 1 == 0:\n",
    "        SSD300_model.save_weights(\"ssd_weights_epoch_{:03d}.h5\".format(epoch+4))"
   ]
  },
  {
   "cell_type": "code",
   "execution_count": null,
   "metadata": {},
   "outputs": [],
   "source": []
  }
 ],
 "metadata": {
  "kernelspec": {
   "display_name": "Python 3",
   "language": "python",
   "name": "python3"
  },
  "language_info": {
   "codemirror_mode": {
    "name": "ipython",
    "version": 3
   },
   "file_extension": ".py",
   "mimetype": "text/x-python",
   "name": "python",
   "nbconvert_exporter": "python",
   "pygments_lexer": "ipython3",
   "version": "3.8.5"
  }
 },
 "nbformat": 4,
 "nbformat_minor": 4
}
