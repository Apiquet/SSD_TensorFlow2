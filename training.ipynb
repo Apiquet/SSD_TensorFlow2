{
 "cells": [
  {
   "cell_type": "code",
   "execution_count": 1,
   "metadata": {},
   "outputs": [],
   "source": [
    "import tensorflow as tf\n",
    "from tqdm import tqdm"
   ]
  },
  {
   "cell_type": "code",
   "execution_count": 2,
   "metadata": {},
   "outputs": [],
   "source": [
    "from data_management.VOC2012ManagerObjDetection import VOC2012ManagerObjDetection\n",
    "db_manager = VOC2012ManagerObjDetection(\"C:/Users/antho/Documents/GitHub/data/VOCdevkit/VOC2012/\", batch_size=32)"
   ]
  },
  {
   "cell_type": "code",
   "execution_count": 3,
   "metadata": {},
   "outputs": [],
   "source": [
    "from models.SSD300 import SSD300\n",
    "SSD300_model = SSD300(21)\n",
    "SSD300_model.build(input_shape=(32, 300, 300, 3))\n",
    "SSD300_model.load_vgg16_imagenet_weights()"
   ]
  },
  {
   "cell_type": "code",
   "execution_count": 4,
   "metadata": {},
   "outputs": [],
   "source": [
    "optimizer = tf.keras.optimizers.SGD(\n",
    "    learning_rate=10**-3,\n",
    "    momentum=0.9)"
   ]
  },
  {
   "cell_type": "code",
   "execution_count": null,
   "metadata": {},
   "outputs": [],
   "source": [
    "from utils.train import *\n",
    "train(SSD300_model, optimizer, db_manager, db_manager.batches, \"C:/Users/antho/Documents/GitHub/data/\")"
   ]
  },
  {
   "cell_type": "code",
   "execution_count": 5,
   "metadata": {},
   "outputs": [],
   "source": [
    "images, confs_gt, locs_gt = db_manager.getImagesAndGtSpeedUp(db_manager.batches[1], SSD300_model.default_boxes)\n",
    "\n",
    "confs_pred, locs_pred = SSD300_model(images)\n",
    "# concat tensor to delete the dimension of feature maps\n",
    "confs_pred = tf.concat(confs_pred, axis=1)\n",
    "locs_pred = tf.concat(locs_pred, axis=1)"
   ]
  },
  {
   "cell_type": "code",
   "execution_count": 6,
   "metadata": {},
   "outputs": [
    {
     "data": {
      "text/plain": [
       "(TensorShape([32, 8732]), TensorShape([32, 8732, 21]))"
      ]
     },
     "execution_count": 6,
     "metadata": {},
     "output_type": "execute_result"
    }
   ],
   "source": [
    "confs_gt.shape, confs_pred.shape"
   ]
  },
  {
   "cell_type": "code",
   "execution_count": 7,
   "metadata": {},
   "outputs": [
    {
     "name": "stdout",
     "output_type": "stream",
     "text": [
      "tf.Tensor(25.903948, shape=(), dtype=float32) tf.Tensor(0.15034881, shape=(), dtype=float32)\n"
     ]
    }
   ],
   "source": [
    "# calculate loss\n",
    "confs_loss, locs_loss = SSD300_model.calculateLoss(\n",
    "    confs_pred, confs_gt, locs_pred, locs_gt)\n",
    "loss = confs_loss + 1*locs_loss\n",
    "print(confs_loss, locs_loss)"
   ]
  },
  {
   "cell_type": "code",
   "execution_count": null,
   "metadata": {},
   "outputs": [],
   "source": [
    "for epoch in range(250):\n",
    "    for batch in tqdm(db_manager.batches):\n",
    "        # get data from batch\n",
    "        images, confs_gt, locs_gt = db_manager.getImagesAndGtSpeedUp(batch, SSD300_model.default_boxes)\n",
    "\n",
    "        # get predictions and losses\n",
    "        with tf.GradientTape() as tape:\n",
    "            confs_pred, locs_pred = SSD300_model(images)\n",
    "            # concat tensor to delete the dimension of feature maps\n",
    "            confs_pred = tf.concat(confs_pred, axis=1)\n",
    "            locs_pred = tf.concat(locs_pred, axis=1)\n",
    "\n",
    "            # calculate loss\n",
    "            confs_loss, locs_loss = SSD300_model.calculateLoss(\n",
    "                confs_pred, confs_gt, locs_pred, locs_gt)\n",
    "            loss = confs_loss + 1*locs_loss\n",
    "\n",
    "        # back propagation\n",
    "        gradients = tape.gradient(loss, SSD300_model.trainable_variables)\n",
    "        optimizer.apply_gradients(zip(gradients, SSD300_model.trainable_variables))\n",
    "    if epoch % 5 == 0:\n",
    "        SSD300_model.save_weights(\"ssd_weights_epoch_{:03d}.h5\".format(epoch))"
   ]
  },
  {
   "cell_type": "code",
   "execution_count": null,
   "metadata": {},
   "outputs": [],
   "source": []
  }
 ],
 "metadata": {
  "kernelspec": {
   "display_name": "Python 3",
   "language": "python",
   "name": "python3"
  },
  "language_info": {
   "codemirror_mode": {
    "name": "ipython",
    "version": 3
   },
   "file_extension": ".py",
   "mimetype": "text/x-python",
   "name": "python",
   "nbconvert_exporter": "python",
   "pygments_lexer": "ipython3",
   "version": "3.8.5"
  }
 },
 "nbformat": 4,
 "nbformat_minor": 4
}
