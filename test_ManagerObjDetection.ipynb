{
 "cells": [
  {
   "cell_type": "code",
   "execution_count": 1,
   "metadata": {},
   "outputs": [],
   "source": [
    "from data_management.VOC2012ManagerObjDetection import VOC2012ManagerObjDetection"
   ]
  },
  {
   "cell_type": "code",
   "execution_count": 2,
   "metadata": {},
   "outputs": [],
   "source": [
    "manager = VOC2012ManagerObjDetection(\"C:/Users/antho/Documents/GitHub/data/VOCdevkit/VOC2012/\")"
   ]
  },
  {
   "cell_type": "code",
   "execution_count": 3,
   "metadata": {},
   "outputs": [
    {
     "data": {
      "text/plain": [
       "11987"
      ]
     },
     "execution_count": 3,
     "metadata": {},
     "output_type": "execute_result"
    }
   ],
   "source": [
    "manager.train_samples"
   ]
  },
  {
   "cell_type": "code",
   "execution_count": 4,
   "metadata": {},
   "outputs": [
    {
     "data": {
      "text/plain": [
       "17125"
      ]
     },
     "execution_count": 4,
     "metadata": {},
     "output_type": "execute_result"
    }
   ],
   "source": [
    "len(manager.images_name)"
   ]
  },
  {
   "cell_type": "code",
   "execution_count": 3,
   "metadata": {},
   "outputs": [
    {
     "name": "stderr",
     "output_type": "stream",
     "text": [
      "100%|██████████████████████████████████████████████████████████████████████████████████| 32/32 [00:01<00:00, 16.28it/s]\n"
     ]
    }
   ],
   "source": [
    "imgs, boxes, classes = manager.getRawData(manager.batches[0])"
   ]
  },
  {
   "cell_type": "code",
   "execution_count": 6,
   "metadata": {},
   "outputs": [
    {
     "name": "stdout",
     "output_type": "stream",
     "text": [
      "(32, 300, 300, 3)\n",
      "tf.Tensor(0.0, shape=(), dtype=float16) tf.Tensor(1.0, shape=(), dtype=float16) None\n"
     ]
    }
   ],
   "source": [
    "import tensorflow as tf\n",
    "# verify normalization\n",
    "print(tf.reduce_min(imgs), tf.reduce_max(imgs), print(imgs.shape))"
   ]
  },
  {
   "cell_type": "code",
   "execution_count": 7,
   "metadata": {},
   "outputs": [],
   "source": [
    "# check number of boxes = number of classes\n",
    "for i in range(len(imgs)):\n",
    "    if(not (boxes[i].shape[0] == classes[i].shape[0])):\n",
    "        print(i, boxes[i].shape,classes[i].shape)\n",
    "    if(not (boxes[i].shape[1] == 4)):\n",
    "        print(i, boxes[i].shape)"
   ]
  },
  {
   "cell_type": "code",
   "execution_count": 8,
   "metadata": {},
   "outputs": [
    {
     "data": {
      "text/plain": [
       "<tf.Tensor: shape=(), dtype=float32, numpy=0.61904764>"
      ]
     },
     "execution_count": 8,
     "metadata": {},
     "output_type": "execute_result"
    }
   ],
   "source": [
    "import tensorflow as tf\n",
    "box1 = tf.constant([1.5+(8-0.5)/2, 4+(8-4)/2, 8-1.5, 8-4])\n",
    "box2 = tf.constant([2+(9-2)/2,4+(7-1)/2, 9-2, 7-1])\n",
    "\n",
    "manager.computeJaccardIdx(box1, box2)"
   ]
  },
  {
   "cell_type": "code",
   "execution_count": 4,
   "metadata": {},
   "outputs": [],
   "source": [
    "from models.SSD300 import SSD300\n",
    "import tensorflow as tf\n",
    "import numpy as np\n",
    "keras = tf.keras\n",
    "SSD300_model = SSD300(10)"
   ]
  },
  {
   "cell_type": "code",
   "execution_count": 5,
   "metadata": {},
   "outputs": [
    {
     "name": "stderr",
     "output_type": "stream",
     "text": [
      "100%|███████████████████████████████████████████████████████████████████████████████████| 1/1 [00:00<00:00, 167.11it/s]\n",
      "1it [02:12, 132.30s/it]\n"
     ]
    }
   ],
   "source": [
    "images, gt_confs, gt_locs = manager.getImagesAndGt(manager.batches[0][1:2], SSD300_model.default_boxes)"
   ]
  },
  {
   "cell_type": "code",
   "execution_count": 6,
   "metadata": {},
   "outputs": [
    {
     "name": "stderr",
     "output_type": "stream",
     "text": [
      "100%|███████████████████████████████████████████████████████████████████████████████████| 1/1 [00:00<00:00, 143.25it/s]\n",
      "1it [00:00, 27.10it/s]\n"
     ]
    }
   ],
   "source": [
    "images_speed, gt_confs_speed, gt_locs_speed = manager.getImagesAndGtSpeedUp(manager.batches[0][1:2], SSD300_model.default_boxes)"
   ]
  },
  {
   "cell_type": "code",
   "execution_count": 6,
   "metadata": {},
   "outputs": [
    {
     "data": {
      "text/plain": [
       "TensorShape([3, 8732])"
      ]
     },
     "execution_count": 6,
     "metadata": {},
     "output_type": "execute_result"
    }
   ],
   "source": [
    "gt_confs.shape"
   ]
  },
  {
   "cell_type": "code",
   "execution_count": 11,
   "metadata": {},
   "outputs": [
    {
     "data": {
      "text/plain": [
       "UniqueWithCountsV2(y=<tf.Tensor: shape=(3, 5), dtype=uint8, numpy=\n",
       "array([[ 0,  0,  0, 15, 15],\n",
       "       [ 0,  1,  0,  1,  0],\n",
       "       [ 0,  0,  1,  0,  0]], dtype=uint8)>, idx=<tf.Tensor: shape=(8732,), dtype=int32, numpy=array([0, 0, 0, ..., 0, 0, 0])>, count=<tf.Tensor: shape=(5,), dtype=int32, numpy=array([8683,   20,   16,    2,   11])>)"
      ]
     },
     "execution_count": 11,
     "metadata": {},
     "output_type": "execute_result"
    }
   ],
   "source": [
    "tf.python.ops.gen_array_ops.unique_with_counts_v2(gt_confs, [1])"
   ]
  },
  {
   "cell_type": "code",
   "execution_count": 7,
   "metadata": {},
   "outputs": [
    {
     "data": {
      "text/plain": [
       "TensorShape([3, 8732, 4])"
      ]
     },
     "execution_count": 7,
     "metadata": {},
     "output_type": "execute_result"
    }
   ],
   "source": [
    "gt_locs.shape"
   ]
  },
  {
   "cell_type": "code",
   "execution_count": 9,
   "metadata": {},
   "outputs": [
    {
     "data": {
      "text/plain": [
       "<tf.Tensor: shape=(), dtype=uint8, numpy=15>"
      ]
     },
     "execution_count": 9,
     "metadata": {},
     "output_type": "execute_result"
    }
   ],
   "source": [
    "tf.reduce_max(gt_confs)"
   ]
  },
  {
   "cell_type": "code",
   "execution_count": 11,
   "metadata": {},
   "outputs": [
    {
     "data": {
      "text/plain": [
       "<tf.Tensor: shape=(), dtype=float16, numpy=0.1436>"
      ]
     },
     "execution_count": 11,
     "metadata": {},
     "output_type": "execute_result"
    }
   ],
   "source": [
    "tf.reduce_max(gt_locs)"
   ]
  },
  {
   "cell_type": "code",
   "execution_count": 13,
   "metadata": {},
   "outputs": [
    {
     "data": {
      "text/plain": [
       "<tf.Variable 'Variable:0' shape=(2, 4) dtype=float32, numpy=\n",
       "array([[1., 1., 2., 2.],\n",
       "       [2., 2., 3., 3.]], dtype=float32)>"
      ]
     },
     "execution_count": 13,
     "metadata": {},
     "output_type": "execute_result"
    }
   ],
   "source": [
    "d_boxes = tf.Variable([[1.0, 1.0, 2.0, 2.0],\n",
    "            [2.0, 2.0, 3.0, 3.0]])\n",
    "gt_box = tf.Variable([[1.0, 1.0, 2.0, 2.0],\n",
    "            [2.0, 2.0, 3.0, 3.0]])"
   ]
  },
  {
   "cell_type": "code",
   "execution_count": 30,
   "metadata": {},
   "outputs": [],
   "source": [
    "corner_box = tf.concat([\n",
    "        SSD300_model.default_boxes[:, :2] - SSD300_model.default_boxes[:, 2:] / 2,\n",
    "        SSD300_model.default_boxes[:, :2] + SSD300_model.default_boxes[:, 2:] / 2], axis= -1)"
   ]
  },
  {
   "cell_type": "code",
   "execution_count": 15,
   "metadata": {},
   "outputs": [
    {
     "data": {
      "text/plain": [
       "TensorShape([8732, 4])"
      ]
     },
     "execution_count": 15,
     "metadata": {},
     "output_type": "execute_result"
    }
   ],
   "source": [
    "SSD300_model.default_boxes.shape"
   ]
  },
  {
   "cell_type": "code",
   "execution_count": 24,
   "metadata": {},
   "outputs": [
    {
     "data": {
      "text/plain": [
       "<tf.Tensor: shape=(2,), dtype=float16, numpy=array([0., 0.], dtype=float16)>"
      ]
     },
     "execution_count": 24,
     "metadata": {},
     "output_type": "execute_result"
    }
   ],
   "source": [
    "SSD300_model.default_boxes[1][:2]"
   ]
  },
  {
   "cell_type": "code",
   "execution_count": 31,
   "metadata": {},
   "outputs": [
    {
     "data": {
      "text/plain": [
       "<tf.Tensor: shape=(4,), dtype=float16, numpy=array([-0.05, -0.05,  0.05,  0.05], dtype=float16)>"
      ]
     },
     "execution_count": 31,
     "metadata": {},
     "output_type": "execute_result"
    }
   ],
   "source": [
    "corner_box[1]"
   ]
  },
  {
   "cell_type": "code",
   "execution_count": 25,
   "metadata": {},
   "outputs": [
    {
     "data": {
      "text/plain": [
       "TensorShape([8732, 4])"
      ]
     },
     "execution_count": 25,
     "metadata": {},
     "output_type": "execute_result"
    }
   ],
   "source": [
    "SSD300_model.default_boxes.shape"
   ]
  },
  {
   "cell_type": "code",
   "execution_count": 5,
   "metadata": {},
   "outputs": [
    {
     "data": {
      "text/plain": [
       "TensorShape([4])"
      ]
     },
     "execution_count": 5,
     "metadata": {},
     "output_type": "execute_result"
    }
   ],
   "source": [
    "boxes[0][0].shape"
   ]
  },
  {
   "cell_type": "code",
   "execution_count": 5,
   "metadata": {},
   "outputs": [],
   "source": [
    "iou = manager.computeJaccardIdxSpeedUp(boxes[7][0], SSD300_model.default_boxes, 0.5)"
   ]
  },
  {
   "cell_type": "code",
   "execution_count": 6,
   "metadata": {},
   "outputs": [
    {
     "data": {
      "text/plain": [
       "UniqueWithCounts(y=<tf.Tensor: shape=(2,), dtype=uint8, numpy=array([0, 1], dtype=uint8)>, idx=<tf.Tensor: shape=(8732,), dtype=int32, numpy=array([0, 0, 0, ..., 0, 0, 0])>, count=<tf.Tensor: shape=(2,), dtype=int32, numpy=array([8724,    8])>)"
      ]
     },
     "execution_count": 6,
     "metadata": {},
     "output_type": "execute_result"
    }
   ],
   "source": [
    "tf.unique_with_counts(iou)"
   ]
  },
  {
   "cell_type": "code",
   "execution_count": 7,
   "metadata": {},
   "outputs": [],
   "source": [
    "offsets = manager.getLocOffsetsSpeedUp(boxes[7][0], iou, SSD300_model.default_boxes)"
   ]
  },
  {
   "cell_type": "code",
   "execution_count": 8,
   "metadata": {},
   "outputs": [
    {
     "data": {
      "text/plain": [
       "UniqueWithCountsV2(y=<tf.Tensor: shape=(22, 4), dtype=float16, numpy=\n",
       "array([[ 0.     ,  0.     ,  0.     ,  0.     ],\n",
       "       [-0.     ,  0.     ,  0.     ,  0.     ],\n",
       "       [ 0.     , -0.     ,  0.     ,  0.     ],\n",
       "       [-0.     , -0.     ,  0.     ,  0.     ],\n",
       "       [ 0.     ,  0.     , -0.     ,  0.     ],\n",
       "       [-0.     ,  0.     , -0.     ,  0.     ],\n",
       "       [ 0.     , -0.     , -0.     ,  0.     ],\n",
       "       [-0.     , -0.     , -0.     ,  0.     ],\n",
       "       [ 0.     ,  0.     ,  0.     , -0.     ],\n",
       "       [-0.     ,  0.     ,  0.     , -0.     ],\n",
       "       [-0.00708,  0.06006, -0.0718 ,  0.33   ],\n",
       "       [-0.00708,  0.06006,  0.0891 ,  0.10205],\n",
       "       [-0.00708,  0.06006,  0.1604 , -0.07275],\n",
       "       [ 0.     , -0.     ,  0.     , -0.     ],\n",
       "       [-0.00708, -0.1401 , -0.0718 ,  0.33   ],\n",
       "       [-0.00708, -0.1401 ,  0.0891 ,  0.10205],\n",
       "       [-0.00708, -0.1401 ,  0.1604 , -0.07275],\n",
       "       [-0.     , -0.     ,  0.     , -0.     ],\n",
       "       [-0.     ,  0.     , -0.     , -0.     ],\n",
       "       [ 0.1263 ,  0.06006, -0.2471 ,  0.1548 ],\n",
       "       [ 0.1263 ,  0.06006, -0.03467, -0.1455 ],\n",
       "       [ 0.     , -0.     , -0.     , -0.     ]], dtype=float16)>, idx=<tf.Tensor: shape=(8732,), dtype=int32, numpy=array([ 0,  0,  0, ..., 18,  5, 18])>, count=<tf.Tensor: shape=(22,), dtype=int32, numpy=\n",
       "array([1400, 3322, 1089, 2589,   48,  130,   33,   83,    3,   11,    1,\n",
       "          1,    1,    2,    1,    1,    1,    7,    6,    1,    1,    1])>)"
      ]
     },
     "execution_count": 8,
     "metadata": {},
     "output_type": "execute_result"
    }
   ],
   "source": [
    "tf.python.ops.gen_array_ops.unique_with_counts_v2(offsets, [0])"
   ]
  },
  {
   "cell_type": "code",
   "execution_count": 9,
   "metadata": {},
   "outputs": [
    {
     "data": {
      "text/plain": [
       "<tf.Tensor: shape=(4,), dtype=float16, numpy=array([0.293, 0.56 , 0.478, 0.88 ], dtype=float16)>"
      ]
     },
     "execution_count": 9,
     "metadata": {},
     "output_type": "execute_result"
    }
   ],
   "source": [
    "boxes[7][0]"
   ]
  },
  {
   "cell_type": "code",
   "execution_count": 11,
   "metadata": {},
   "outputs": [
    {
     "data": {
      "text/plain": [
       "<tf.Tensor: shape=(3,), dtype=uint8, numpy=array([1, 0, 1], dtype=uint8)>"
      ]
     },
     "execution_count": 11,
     "metadata": {},
     "output_type": "execute_result"
    }
   ],
   "source": [
    "iou[-27:-24]"
   ]
  },
  {
   "cell_type": "code",
   "execution_count": 12,
   "metadata": {},
   "outputs": [
    {
     "data": {
      "text/plain": [
       "<tf.Tensor: shape=(4,), dtype=float16, numpy=array([0.1666, 0.5   , 0.5127, 1.025 ], dtype=float16)>"
      ]
     },
     "execution_count": 12,
     "metadata": {},
     "output_type": "execute_result"
    }
   ],
   "source": [
    "# verify ratio of the -25 box\n",
    "SSD300_model.default_boxes[-25]"
   ]
  },
  {
   "cell_type": "code",
   "execution_count": 17,
   "metadata": {},
   "outputs": [
    {
     "data": {
      "text/plain": [
       "<tf.Tensor: shape=(5,), dtype=uint8, numpy=array([1, 0, 1, 0, 1], dtype=uint8)>"
      ]
     },
     "execution_count": 17,
     "metadata": {},
     "output_type": "execute_result"
    }
   ],
   "source": [
    "iou[-93:-88]"
   ]
  },
  {
   "cell_type": "code",
   "execution_count": 14,
   "metadata": {},
   "outputs": [
    {
     "data": {
      "text/plain": [
       "<tf.Tensor: shape=(4,), dtype=float16, numpy=array([0.3   , 0.7   , 0.3176, 0.9526], dtype=float16)>"
      ]
     },
     "execution_count": 14,
     "metadata": {},
     "output_type": "execute_result"
    }
   ],
   "source": [
    "# verify ratio of the -89 box\n",
    "SSD300_model.default_boxes[-89]"
   ]
  },
  {
   "cell_type": "code",
   "execution_count": 15,
   "metadata": {},
   "outputs": [
    {
     "data": {
      "text/plain": [
       "<tf.Tensor: shape=(5,), dtype=uint8, numpy=array([1, 0, 1, 0, 1], dtype=uint8)>"
      ]
     },
     "execution_count": 15,
     "metadata": {},
     "output_type": "execute_result"
    }
   ],
   "source": [
    "iou[-123:-118]"
   ]
  },
  {
   "cell_type": "code",
   "execution_count": 16,
   "metadata": {},
   "outputs": [
    {
     "data": {
      "text/plain": [
       "<tf.Tensor: shape=(4,), dtype=float16, numpy=array([0.3   , 0.5   , 0.3176, 0.9526], dtype=float16)>"
      ]
     },
     "execution_count": 16,
     "metadata": {},
     "output_type": "execute_result"
    }
   ],
   "source": [
    "# verify ratio of the -119 box\n",
    "SSD300_model.default_boxes[-119]"
   ]
  },
  {
   "cell_type": "code",
   "execution_count": null,
   "metadata": {},
   "outputs": [],
   "source": []
  }
 ],
 "metadata": {
  "kernelspec": {
   "display_name": "Python 3",
   "language": "python",
   "name": "python3"
  },
  "language_info": {
   "codemirror_mode": {
    "name": "ipython",
    "version": 3
   },
   "file_extension": ".py",
   "mimetype": "text/x-python",
   "name": "python",
   "nbconvert_exporter": "python",
   "pygments_lexer": "ipython3",
   "version": "3.8.5"
  }
 },
 "nbformat": 4,
 "nbformat_minor": 4
}
