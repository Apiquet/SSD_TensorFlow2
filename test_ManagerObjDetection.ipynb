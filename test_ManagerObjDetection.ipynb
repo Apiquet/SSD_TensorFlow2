{
 "cells": [
  {
   "cell_type": "code",
   "execution_count": 1,
   "metadata": {},
   "outputs": [],
   "source": [
    "from data_management.VOC2012ManagerObjDetection import VOC2012ManagerObjDetection"
   ]
  },
  {
   "cell_type": "code",
   "execution_count": 2,
   "metadata": {},
   "outputs": [],
   "source": [
    "manager = VOC2012ManagerObjDetection(\"C:/Users/antho/Documents/GitHub/data/VOCdevkit/VOC2012/\")"
   ]
  },
  {
   "cell_type": "code",
   "execution_count": 3,
   "metadata": {},
   "outputs": [
    {
     "data": {
      "text/plain": [
       "17125"
      ]
     },
     "execution_count": 3,
     "metadata": {},
     "output_type": "execute_result"
    }
   ],
   "source": [
    "len(manager.images_name)"
   ]
  },
  {
   "cell_type": "code",
   "execution_count": 4,
   "metadata": {},
   "outputs": [
    {
     "data": {
      "text/plain": [
       "TensorShape([32, 300, 300, 3])"
      ]
     },
     "execution_count": 4,
     "metadata": {},
     "output_type": "execute_result"
    }
   ],
   "source": [
    "imgs = manager.getImages(manager.images_name[0:32])\n",
    "imgs.shape"
   ]
  },
  {
   "cell_type": "code",
   "execution_count": 5,
   "metadata": {},
   "outputs": [
    {
     "name": "stdout",
     "output_type": "stream",
     "text": [
      "tf.Tensor(0.0, shape=(), dtype=float32) tf.Tensor(1.0, shape=(), dtype=float32)\n"
     ]
    }
   ],
   "source": [
    "import tensorflow as tf\n",
    "# verify normalization\n",
    "print(tf.reduce_min(imgs), tf.reduce_max(imgs))"
   ]
  },
  {
   "cell_type": "code",
   "execution_count": 4,
   "metadata": {},
   "outputs": [],
   "source": [
    "boxes_per_images, classes_per_images = manager.getAnnotations(manager.images_name[0:32])"
   ]
  },
  {
   "cell_type": "code",
   "execution_count": 5,
   "metadata": {},
   "outputs": [
    {
     "name": "stdout",
     "output_type": "stream",
     "text": [
      "(1, 4) (1,)\n",
      "(4, 4) (4,)\n",
      "(3, 4) (3,)\n",
      "(1, 4) (1,)\n",
      "(2, 4) (2,)\n",
      "(2, 4) (2,)\n",
      "(2, 4) (2,)\n",
      "(1, 4) (1,)\n",
      "(2, 4) (2,)\n",
      "(1, 4) (1,)\n",
      "(6, 4) (6,)\n",
      "(6, 4) (6,)\n",
      "(1, 4) (1,)\n",
      "(1, 4) (1,)\n",
      "(3, 4) (3,)\n",
      "(1, 4) (1,)\n",
      "(2, 4) (2,)\n",
      "(1, 4) (1,)\n",
      "(1, 4) (1,)\n",
      "(2, 4) (2,)\n",
      "(1, 4) (1,)\n",
      "(1, 4) (1,)\n",
      "(4, 4) (4,)\n",
      "(2, 4) (2,)\n",
      "(3, 4) (3,)\n",
      "(2, 4) (2,)\n",
      "(2, 4) (2,)\n",
      "(2, 4) (2,)\n",
      "(2, 4) (2,)\n",
      "(4, 4) (4,)\n",
      "(1, 4) (1,)\n",
      "(4, 4) (4,)\n"
     ]
    }
   ],
   "source": [
    "for i in range(len(boxes_per_images)):\n",
    "    print(boxes_per_images[i].shape, classes_per_images[i].shape)"
   ]
  },
  {
   "cell_type": "code",
   "execution_count": 6,
   "metadata": {},
   "outputs": [
    {
     "data": {
      "text/plain": [
       "<tf.Tensor: shape=(4, 4), dtype=float16, numpy=\n",
       "array([[1.401  , 0.8467 , 0.53   , 1.014  ],\n",
       "       [0.1917 , 0.2617 , 0.1433 , 0.2966 ],\n",
       "       [0.06335, 0.2734 , 0.11334, 0.2534 ],\n",
       "       [0.11664, 0.1766 , 0.04   , 0.0733 ]], dtype=float16)>"
      ]
     },
     "execution_count": 6,
     "metadata": {},
     "output_type": "execute_result"
    }
   ],
   "source": [
    "boxes_per_images[i]"
   ]
  },
  {
   "cell_type": "code",
   "execution_count": null,
   "metadata": {},
   "outputs": [],
   "source": []
  }
 ],
 "metadata": {
  "kernelspec": {
   "display_name": "Python 3",
   "language": "python",
   "name": "python3"
  },
  "language_info": {
   "codemirror_mode": {
    "name": "ipython",
    "version": 3
   },
   "file_extension": ".py",
   "mimetype": "text/x-python",
   "name": "python",
   "nbconvert_exporter": "python",
   "pygments_lexer": "ipython3",
   "version": "3.8.5"
  }
 },
 "nbformat": 4,
 "nbformat_minor": 4
}
