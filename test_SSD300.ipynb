{
 "cells": [
  {
   "cell_type": "code",
   "execution_count": 1,
   "metadata": {},
   "outputs": [],
   "source": [
    "from models.SSD300 import SSD300\n",
    "import tensorflow as tf\n",
    "import numpy as np\n",
    "keras = tf.keras"
   ]
  },
  {
   "cell_type": "code",
   "execution_count": 2,
   "metadata": {},
   "outputs": [],
   "source": [
    "SSD300_model = SSD300(10)"
   ]
  },
  {
   "cell_type": "code",
   "execution_count": 3,
   "metadata": {},
   "outputs": [
    {
     "name": "stdout",
     "output_type": "stream",
     "text": [
      "Model: \"sequential_2\"\n",
      "_________________________________________________________________\n",
      "Layer (type)                 Output Shape              Param #   \n",
      "=================================================================\n",
      "sequential (Sequential)      (None, 38, 38, 512)       7635264   \n",
      "_________________________________________________________________\n",
      "sequential_1 (Sequential)    (None, 19, 19, 512)       7079424   \n",
      "_________________________________________________________________\n",
      "FC6_to_Conv6 (Conv2D)        (None, 19, 19, 1024)      4719616   \n",
      "_________________________________________________________________\n",
      "FC7_to_Conv7 (Conv2D)        (None, 19, 19, 1024)      1049600   \n",
      "_________________________________________________________________\n",
      "Conv8_1 (Conv2D)             (None, 19, 19, 256)       262400    \n",
      "_________________________________________________________________\n",
      "Conv8_2 (Conv2D)             (None, 10, 10, 512)       1180160   \n",
      "_________________________________________________________________\n",
      "Conv9_1 (Conv2D)             (None, 10, 10, 128)       65664     \n",
      "_________________________________________________________________\n",
      "Conv9_2 (Conv2D)             (None, 5, 5, 256)         295168    \n",
      "_________________________________________________________________\n",
      "Conv10_1 (Conv2D)            (None, 5, 5, 128)         32896     \n",
      "_________________________________________________________________\n",
      "Conv10_2 (Conv2D)            (None, 3, 3, 256)         295168    \n",
      "_________________________________________________________________\n",
      "Conv11_1 (Conv2D)            (None, 3, 3, 128)         32896     \n",
      "_________________________________________________________________\n",
      "Conv11_2 (Conv2D)            (None, 1, 1, 256)         295168    \n",
      "=================================================================\n",
      "Total params: 22,943,424\n",
      "Trainable params: 22,943,424\n",
      "Non-trainable params: 0\n",
      "_________________________________________________________________\n"
     ]
    }
   ],
   "source": [
    "SSD300_cone = SSD300_model.getCone()\n",
    "SSD300_cone.summary()"
   ]
  },
  {
   "cell_type": "code",
   "execution_count": 4,
   "metadata": {},
   "outputs": [],
   "source": [
    "test_input = tf.ones((20, 300, 300, 3), dtype=tf.dtypes.float32, name=None)\n",
    "confs, locs = SSD300_model(test_input)"
   ]
  },
  {
   "cell_type": "code",
   "execution_count": 5,
   "metadata": {},
   "outputs": [
    {
     "name": "stdout",
     "output_type": "stream",
     "text": [
      "[Stage 4] Convolutions shape for confidence: (20, 5776, 10), for localization: (20, 5776, 4), number of boxes: (5776, 4)\n",
      "[Stage 7] Convolutions shape for confidence: (20, 2166, 10), for localization: (20, 2166, 4), number of boxes: (2166, 4)\n",
      "[Stage 8] Convolutions shape for confidence: (20, 600, 10), for localization: (20, 600, 4), number of boxes: (600, 4)\n",
      "[Stage 9] Convolutions shape for confidence: (20, 150, 10), for localization: (20, 150, 4), number of boxes: (150, 4)\n",
      "[Stage 10] Convolutions shape for confidence: (20, 36, 10), for localization: (20, 36, 4), number of boxes: (36, 4)\n",
      "[Stage 11] Convolutions shape for confidence: (20, 4, 10), for localization: (20, 4, 4), number of boxes: (4, 4)\n"
     ]
    }
   ],
   "source": [
    "# after reshape\n",
    "stages = [4, 7, 8, 9, 10, 11]\n",
    "for i in range(len(confs)):\n",
    "    print(\"[Stage {}] Convolutions shape for confidence: {}, for localization: {}, number of boxes: {}\".format(\n",
    "        stages[i],\n",
    "        confs[i].shape,\n",
    "        locs[i].shape,\n",
    "        SSD300_model.default_boxes[i].shape))"
   ]
  },
  {
   "cell_type": "code",
   "execution_count": null,
   "metadata": {},
   "outputs": [],
   "source": [
    "confs_ = []\n",
    "for conf in confs:\n",
    "    confs_.append(tf.reshape(conf, [conf.shape[0], -1, 10]))\n",
    "    print(tf.reshape(conf, [conf.shape[0], -1, 10]).shape)"
   ]
  },
  {
   "cell_type": "code",
   "execution_count": 7,
   "metadata": {},
   "outputs": [
    {
     "data": {
      "text/plain": [
       "TensorShape([20, 8732, 10])"
      ]
     },
     "execution_count": 7,
     "metadata": {},
     "output_type": "execute_result"
    }
   ],
   "source": [
    "confs_concat = tf.concat(confs_, axis=1)\n",
    "confs_concat.shape"
   ]
  },
  {
   "cell_type": "code",
   "execution_count": 8,
   "metadata": {},
   "outputs": [
    {
     "data": {
      "text/plain": [
       "TensorShape([10672, 4])"
      ]
     },
     "execution_count": 8,
     "metadata": {},
     "output_type": "execute_result"
    }
   ],
   "source": [
    "SSD300_model.train().shape"
   ]
  },
  {
   "cell_type": "code",
   "execution_count": null,
   "metadata": {},
   "outputs": [],
   "source": []
  }
 ],
 "metadata": {
  "kernelspec": {
   "display_name": "Python 3",
   "language": "python",
   "name": "python3"
  },
  "language_info": {
   "codemirror_mode": {
    "name": "ipython",
    "version": 3
   },
   "file_extension": ".py",
   "mimetype": "text/x-python",
   "name": "python",
   "nbconvert_exporter": "python",
   "pygments_lexer": "ipython3",
   "version": "3.8.5"
  }
 },
 "nbformat": 4,
 "nbformat_minor": 4
}
