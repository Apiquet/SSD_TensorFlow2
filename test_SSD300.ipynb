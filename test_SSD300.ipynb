{
 "cells": [
  {
   "cell_type": "code",
   "execution_count": 1,
   "metadata": {},
   "outputs": [],
   "source": [
    "from models.SSD300 import SSD300\n",
    "import tensorflow as tf\n",
    "import numpy as np\n",
    "keras = tf.keras"
   ]
  },
  {
   "cell_type": "code",
   "execution_count": 2,
   "metadata": {},
   "outputs": [],
   "source": [
    "SSD300_model = SSD300(10)"
   ]
  },
  {
   "cell_type": "code",
   "execution_count": 3,
   "metadata": {},
   "outputs": [],
   "source": [
    "test_input = tf.ones((20, 300, 300, 3), dtype=tf.dtypes.float32, name=None)\n",
    "confs, locs = SSD300_model(test_input)"
   ]
  },
  {
   "cell_type": "code",
   "execution_count": 3,
   "metadata": {},
   "outputs": [
    {
     "name": "stdout",
     "output_type": "stream",
     "text": [
      "Model: \"sequential_2\"\n",
      "_________________________________________________________________\n",
      "Layer (type)                 Output Shape              Param #   \n",
      "=================================================================\n",
      "sequential (Sequential)      (None, 38, 38, 512)       7635264   \n",
      "_________________________________________________________________\n",
      "sequential_1 (Sequential)    (None, 19, 19, 512)       7079424   \n",
      "_________________________________________________________________\n",
      "FC6_to_Conv6 (Conv2D)        (None, 19, 19, 1024)      4719616   \n",
      "_________________________________________________________________\n",
      "FC7_to_Conv7 (Conv2D)        (None, 19, 19, 1024)      1049600   \n",
      "_________________________________________________________________\n",
      "Conv8_1 (Conv2D)             (None, 19, 19, 256)       262400    \n",
      "_________________________________________________________________\n",
      "Conv8_2 (Conv2D)             (None, 10, 10, 512)       1180160   \n",
      "_________________________________________________________________\n",
      "Conv9_1 (Conv2D)             (None, 10, 10, 128)       65664     \n",
      "_________________________________________________________________\n",
      "Conv9_2 (Conv2D)             (None, 5, 5, 256)         295168    \n",
      "_________________________________________________________________\n",
      "Conv10_1 (Conv2D)            (None, 5, 5, 128)         32896     \n",
      "_________________________________________________________________\n",
      "Conv10_2 (Conv2D)            (None, 3, 3, 256)         295168    \n",
      "_________________________________________________________________\n",
      "Conv11_1 (Conv2D)            (None, 3, 3, 128)         32896     \n",
      "_________________________________________________________________\n",
      "Conv11_2 (Conv2D)            (None, 1, 1, 256)         295168    \n",
      "=================================================================\n",
      "Total params: 22,943,424\n",
      "Trainable params: 22,943,424\n",
      "Non-trainable params: 0\n",
      "_________________________________________________________________\n"
     ]
    }
   ],
   "source": [
    "SSD300_cone = SSD300_model.getCone()\n",
    "SSD300_cone.summary()"
   ]
  },
  {
   "cell_type": "code",
   "execution_count": 4,
   "metadata": {},
   "outputs": [
    {
     "ename": "ValueError",
     "evalue": "Invalid dtype tf.uint8",
     "output_type": "error",
     "traceback": [
      "\u001b[1;31m---------------------------------------------------------------------------\u001b[0m",
      "\u001b[1;31mValueError\u001b[0m                                Traceback (most recent call last)",
      "\u001b[1;32m<ipython-input-4-29da5a871ee4>\u001b[0m in \u001b[0;36m<module>\u001b[1;34m\u001b[0m\n\u001b[0;32m      1\u001b[0m \u001b[0mtest_input\u001b[0m \u001b[1;33m=\u001b[0m \u001b[0mtf\u001b[0m\u001b[1;33m.\u001b[0m\u001b[0mones\u001b[0m\u001b[1;33m(\u001b[0m\u001b[1;33m(\u001b[0m\u001b[1;36m20\u001b[0m\u001b[1;33m,\u001b[0m \u001b[1;36m300\u001b[0m\u001b[1;33m,\u001b[0m \u001b[1;36m300\u001b[0m\u001b[1;33m,\u001b[0m \u001b[1;36m3\u001b[0m\u001b[1;33m)\u001b[0m\u001b[1;33m,\u001b[0m \u001b[0mdtype\u001b[0m\u001b[1;33m=\u001b[0m\u001b[0mtf\u001b[0m\u001b[1;33m.\u001b[0m\u001b[0mdtypes\u001b[0m\u001b[1;33m.\u001b[0m\u001b[0mfloat32\u001b[0m\u001b[1;33m,\u001b[0m \u001b[0mname\u001b[0m\u001b[1;33m=\u001b[0m\u001b[1;32mNone\u001b[0m\u001b[1;33m)\u001b[0m\u001b[1;33m\u001b[0m\u001b[1;33m\u001b[0m\u001b[0m\n\u001b[1;32m----> 2\u001b[1;33m \u001b[0mconfs\u001b[0m\u001b[1;33m,\u001b[0m \u001b[0mlocs\u001b[0m \u001b[1;33m=\u001b[0m \u001b[0mSSD300_model\u001b[0m\u001b[1;33m(\u001b[0m\u001b[0mtest_input\u001b[0m\u001b[1;33m)\u001b[0m\u001b[1;33m\u001b[0m\u001b[1;33m\u001b[0m\u001b[0m\n\u001b[0m",
      "\u001b[1;32m~\\Documents\\GitHub\\SSD_tensorflow\\models\\SSD300.py\u001b[0m in \u001b[0;36m__call__\u001b[1;34m(self, x)\u001b[0m\n\u001b[0;32m    315\u001b[0m         \u001b[0mlocs_per_stage\u001b[0m\u001b[1;33m.\u001b[0m\u001b[0mappend\u001b[0m\u001b[1;33m(\u001b[0m\u001b[0mloc\u001b[0m\u001b[1;33m)\u001b[0m\u001b[1;33m\u001b[0m\u001b[1;33m\u001b[0m\u001b[0m\n\u001b[0;32m    316\u001b[0m \u001b[1;33m\u001b[0m\u001b[0m\n\u001b[1;32m--> 317\u001b[1;33m         \u001b[0mfake_conf_gt\u001b[0m \u001b[1;33m=\u001b[0m \u001b[0mtf\u001b[0m\u001b[1;33m.\u001b[0m\u001b[0mrandom\u001b[0m\u001b[1;33m.\u001b[0m\u001b[0muniform\u001b[0m\u001b[1;33m(\u001b[0m\u001b[0mshape\u001b[0m\u001b[1;33m=\u001b[0m\u001b[1;33m[\u001b[0m\u001b[0mconfs_per_stage\u001b[0m\u001b[1;33m[\u001b[0m\u001b[1;36m0\u001b[0m\u001b[1;33m]\u001b[0m\u001b[1;33m.\u001b[0m\u001b[0mshape\u001b[0m\u001b[1;33m[\u001b[0m\u001b[1;36m0\u001b[0m\u001b[1;33m]\u001b[0m\u001b[1;33m,\u001b[0m \u001b[0mconfs_per_stage\u001b[0m\u001b[1;33m[\u001b[0m\u001b[1;36m0\u001b[0m\u001b[1;33m]\u001b[0m\u001b[1;33m.\u001b[0m\u001b[0mshape\u001b[0m\u001b[1;33m[\u001b[0m\u001b[1;36m1\u001b[0m\u001b[1;33m]\u001b[0m\u001b[1;33m]\u001b[0m\u001b[1;33m,\u001b[0m \u001b[0mminval\u001b[0m\u001b[1;33m=\u001b[0m\u001b[1;36m0\u001b[0m\u001b[1;33m,\u001b[0m \u001b[0mmaxval\u001b[0m\u001b[1;33m=\u001b[0m\u001b[1;36m2\u001b[0m\u001b[1;33m,\u001b[0m \u001b[0mdtype\u001b[0m\u001b[1;33m=\u001b[0m\u001b[0mtf\u001b[0m\u001b[1;33m.\u001b[0m\u001b[0muint8\u001b[0m\u001b[1;33m)\u001b[0m\u001b[1;33m\u001b[0m\u001b[1;33m\u001b[0m\u001b[0m\n\u001b[0m\u001b[0;32m    318\u001b[0m         \u001b[0mself\u001b[0m\u001b[1;33m.\u001b[0m\u001b[0mcalculateLoss\u001b[0m\u001b[1;33m(\u001b[0m\u001b[0mconfs_per_stage\u001b[0m\u001b[1;33m[\u001b[0m\u001b[1;36m0\u001b[0m\u001b[1;33m]\u001b[0m\u001b[1;33m,\u001b[0m \u001b[0mfake_conf_gt\u001b[0m\u001b[1;33m,\u001b[0m \u001b[0mlocs_per_stage\u001b[0m\u001b[1;33m[\u001b[0m\u001b[1;36m0\u001b[0m\u001b[1;33m]\u001b[0m \u001b[1;33m+\u001b[0m \u001b[1;36m0.2\u001b[0m\u001b[1;33m,\u001b[0m \u001b[0mlocs_per_stage\u001b[0m\u001b[1;33m[\u001b[0m\u001b[1;36m0\u001b[0m\u001b[1;33m]\u001b[0m\u001b[1;33m)\u001b[0m\u001b[1;33m\u001b[0m\u001b[1;33m\u001b[0m\u001b[0m\n\u001b[0;32m    319\u001b[0m \u001b[1;33m\u001b[0m\u001b[0m\n",
      "\u001b[1;32m~\\Anaconda3\\envs\\tf\\lib\\site-packages\\tensorflow\\python\\util\\dispatch.py\u001b[0m in \u001b[0;36mwrapper\u001b[1;34m(*args, **kwargs)\u001b[0m\n\u001b[0;32m    199\u001b[0m     \u001b[1;34m\"\"\"Call target, and fall back on dispatchers if there is a TypeError.\"\"\"\u001b[0m\u001b[1;33m\u001b[0m\u001b[1;33m\u001b[0m\u001b[0m\n\u001b[0;32m    200\u001b[0m     \u001b[1;32mtry\u001b[0m\u001b[1;33m:\u001b[0m\u001b[1;33m\u001b[0m\u001b[1;33m\u001b[0m\u001b[0m\n\u001b[1;32m--> 201\u001b[1;33m       \u001b[1;32mreturn\u001b[0m \u001b[0mtarget\u001b[0m\u001b[1;33m(\u001b[0m\u001b[1;33m*\u001b[0m\u001b[0margs\u001b[0m\u001b[1;33m,\u001b[0m \u001b[1;33m**\u001b[0m\u001b[0mkwargs\u001b[0m\u001b[1;33m)\u001b[0m\u001b[1;33m\u001b[0m\u001b[1;33m\u001b[0m\u001b[0m\n\u001b[0m\u001b[0;32m    202\u001b[0m     \u001b[1;32mexcept\u001b[0m \u001b[1;33m(\u001b[0m\u001b[0mTypeError\u001b[0m\u001b[1;33m,\u001b[0m \u001b[0mValueError\u001b[0m\u001b[1;33m)\u001b[0m\u001b[1;33m:\u001b[0m\u001b[1;33m\u001b[0m\u001b[1;33m\u001b[0m\u001b[0m\n\u001b[0;32m    203\u001b[0m       \u001b[1;31m# Note: convert_to_eager_tensor currently raises a ValueError, not a\u001b[0m\u001b[1;33m\u001b[0m\u001b[1;33m\u001b[0m\u001b[1;33m\u001b[0m\u001b[0m\n",
      "\u001b[1;32m~\\Anaconda3\\envs\\tf\\lib\\site-packages\\tensorflow\\python\\ops\\random_ops.py\u001b[0m in \u001b[0;36mrandom_uniform\u001b[1;34m(shape, minval, maxval, dtype, seed, name)\u001b[0m\n\u001b[0;32m    280\u001b[0m   if dtype not in (dtypes.float16, dtypes.bfloat16, dtypes.float32,\n\u001b[0;32m    281\u001b[0m                    dtypes.float64, dtypes.int32, dtypes.int64):\n\u001b[1;32m--> 282\u001b[1;33m     \u001b[1;32mraise\u001b[0m \u001b[0mValueError\u001b[0m\u001b[1;33m(\u001b[0m\u001b[1;34m\"Invalid dtype %r\"\u001b[0m \u001b[1;33m%\u001b[0m \u001b[0mdtype\u001b[0m\u001b[1;33m)\u001b[0m\u001b[1;33m\u001b[0m\u001b[1;33m\u001b[0m\u001b[0m\n\u001b[0m\u001b[0;32m    283\u001b[0m   \u001b[1;32mif\u001b[0m \u001b[0mmaxval\u001b[0m \u001b[1;32mis\u001b[0m \u001b[1;32mNone\u001b[0m\u001b[1;33m:\u001b[0m\u001b[1;33m\u001b[0m\u001b[1;33m\u001b[0m\u001b[0m\n\u001b[0;32m    284\u001b[0m     \u001b[1;32mif\u001b[0m \u001b[0mdtype\u001b[0m\u001b[1;33m.\u001b[0m\u001b[0mis_integer\u001b[0m\u001b[1;33m:\u001b[0m\u001b[1;33m\u001b[0m\u001b[1;33m\u001b[0m\u001b[0m\n",
      "\u001b[1;31mValueError\u001b[0m: Invalid dtype tf.uint8"
     ]
    }
   ],
   "source": [
    "test_input = tf.ones((20, 300, 300, 3), dtype=tf.dtypes.float32, name=None)\n",
    "confs, locs = SSD300_model(test_input)"
   ]
  },
  {
   "cell_type": "code",
   "execution_count": 5,
   "metadata": {},
   "outputs": [
    {
     "name": "stdout",
     "output_type": "stream",
     "text": [
      "[Stage 4] Convolutions shape for confidence: (20, 5776, 10), for localization: (20, 5776, 4), number of boxes: (5776, 4)\n",
      "[Stage 7] Convolutions shape for confidence: (20, 2166, 10), for localization: (20, 2166, 4), number of boxes: (2166, 4)\n",
      "[Stage 8] Convolutions shape for confidence: (20, 600, 10), for localization: (20, 600, 4), number of boxes: (600, 4)\n",
      "[Stage 9] Convolutions shape for confidence: (20, 150, 10), for localization: (20, 150, 4), number of boxes: (150, 4)\n",
      "[Stage 10] Convolutions shape for confidence: (20, 36, 10), for localization: (20, 36, 4), number of boxes: (36, 4)\n",
      "[Stage 11] Convolutions shape for confidence: (20, 4, 10), for localization: (20, 4, 4), number of boxes: (4, 4)\n"
     ]
    }
   ],
   "source": [
    "# after reshape\n",
    "stages = [4, 7, 8, 9, 10, 11]\n",
    "for i in range(len(confs)):\n",
    "    print(\"[Stage {}] Convolutions shape for confidence: {}, for localization: {}, number of boxes: {}\".format(\n",
    "        stages[i],\n",
    "        confs[i].shape,\n",
    "        locs[i].shape,\n",
    "        SSD300_model.default_boxes[i].shape))"
   ]
  },
  {
   "cell_type": "code",
   "execution_count": 5,
   "metadata": {},
   "outputs": [
    {
     "name": "stdout",
     "output_type": "stream",
     "text": [
      "[Stage 4] Convolutions shape for confidence: (20, 38, 38, 40), for localization: (20, 38, 38, 16), number of boxes: (5776, 4)\n",
      "[Stage 7] Convolutions shape for confidence: (20, 19, 19, 60), for localization: (20, 19, 19, 24), number of boxes: (2166, 4)\n",
      "[Stage 8] Convolutions shape for confidence: (20, 10, 10, 60), for localization: (20, 10, 10, 24), number of boxes: (600, 4)\n",
      "[Stage 9] Convolutions shape for confidence: (20, 5, 5, 60), for localization: (20, 5, 5, 24), number of boxes: (150, 4)\n",
      "[Stage 10] Convolutions shape for confidence: (20, 3, 3, 40), for localization: (20, 3, 3, 16), number of boxes: (36, 4)\n",
      "[Stage 11] Convolutions shape for confidence: (20, 1, 1, 40), for localization: (20, 1, 1, 16), number of boxes: (4, 4)\n"
     ]
    }
   ],
   "source": [
    "# before reshape\n",
    "stages = [4, 7, 8, 9, 10, 11]\n",
    "for i in range(len(confs)):\n",
    "    print(\"[Stage {}] Convolutions shape for confidence: {}, for localization: {}, number of boxes: {}\".format(\n",
    "        stages[i],\n",
    "        confs[i].shape,\n",
    "        locs[i].shape,\n",
    "        SSD300_model.default_boxes[i].shape))"
   ]
  },
  {
   "cell_type": "code",
   "execution_count": null,
   "metadata": {},
   "outputs": [],
   "source": [
    "confs_ = []\n",
    "for conf in confs:\n",
    "    confs_.append(tf.reshape(conf, [conf.shape[0], -1, 10]))\n",
    "    print(tf.reshape(conf, [conf.shape[0], -1, 10]).shape)"
   ]
  },
  {
   "cell_type": "code",
   "execution_count": 7,
   "metadata": {},
   "outputs": [
    {
     "data": {
      "text/plain": [
       "TensorShape([20, 8732, 10])"
      ]
     },
     "execution_count": 7,
     "metadata": {},
     "output_type": "execute_result"
    }
   ],
   "source": [
    "confs_concat = tf.concat(confs_, axis=1)\n",
    "confs_concat.shape"
   ]
  },
  {
   "cell_type": "code",
   "execution_count": 8,
   "metadata": {},
   "outputs": [
    {
     "data": {
      "text/plain": [
       "TensorShape([10672, 4])"
      ]
     },
     "execution_count": 8,
     "metadata": {},
     "output_type": "execute_result"
    }
   ],
   "source": [
    "SSD300_model.train().shape"
   ]
  },
  {
   "cell_type": "code",
   "execution_count": null,
   "metadata": {},
   "outputs": [],
   "source": []
  }
 ],
 "metadata": {
  "kernelspec": {
   "display_name": "Python 3",
   "language": "python",
   "name": "python3"
  },
  "language_info": {
   "codemirror_mode": {
    "name": "ipython",
    "version": 3
   },
   "file_extension": ".py",
   "mimetype": "text/x-python",
   "name": "python",
   "nbconvert_exporter": "python",
   "pygments_lexer": "ipython3",
   "version": "3.8.5"
  }
 },
 "nbformat": 4,
 "nbformat_minor": 4
}
