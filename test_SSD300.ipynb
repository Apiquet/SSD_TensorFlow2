{
 "cells": [
  {
   "cell_type": "code",
   "execution_count": 1,
   "metadata": {},
   "outputs": [],
   "source": [
    "from models.SSD300 import SSD300\n",
    "import tensorflow as tf\n",
    "keras = tf.keras"
   ]
  },
  {
   "cell_type": "code",
   "execution_count": 2,
   "metadata": {},
   "outputs": [],
   "source": [
    "SSD300_model = SSD300().getModel()"
   ]
  },
  {
   "cell_type": "code",
   "execution_count": 3,
   "metadata": {},
   "outputs": [],
   "source": [
    "SSD300_model.compile(optimizer=keras.optimizers.Adam(lr=0.001),\n",
    "                     loss=keras.losses.categorical_crossentropy,\n",
    "                     metrics=['accuracy'])"
   ]
  },
  {
   "cell_type": "code",
   "execution_count": 4,
   "metadata": {},
   "outputs": [
    {
     "name": "stdout",
     "output_type": "stream",
     "text": [
      "Model: \"sequential_1\"\n",
      "_________________________________________________________________\n",
      "Layer (type)                 Output Shape              Param #   \n",
      "=================================================================\n",
      "Conv1_1 (Conv2D)             (None, 300, 300, 64)      1792      \n",
      "_________________________________________________________________\n",
      "Conv1_2 (Conv2D)             (None, 300, 300, 64)      36928     \n",
      "_________________________________________________________________\n",
      "max_pooling2d (MaxPooling2D) (None, 150, 150, 64)      0         \n",
      "_________________________________________________________________\n",
      "Conv2_1 (Conv2D)             (None, 150, 150, 128)     73856     \n",
      "_________________________________________________________________\n",
      "Conv2_2 (Conv2D)             (None, 150, 150, 128)     147584    \n",
      "_________________________________________________________________\n",
      "max_pooling2d_1 (MaxPooling2 (None, 75, 75, 128)       0         \n",
      "_________________________________________________________________\n",
      "Conv3_1 (Conv2D)             (None, 75, 75, 256)       295168    \n",
      "_________________________________________________________________\n",
      "Conv3_2 (Conv2D)             (None, 75, 75, 256)       590080    \n",
      "_________________________________________________________________\n",
      "Conv3_3 (Conv2D)             (None, 75, 75, 256)       590080    \n",
      "_________________________________________________________________\n",
      "max_pooling2d_2 (MaxPooling2 (None, 38, 38, 256)       0         \n",
      "_________________________________________________________________\n",
      "Conv4_1 (Conv2D)             (None, 38, 38, 512)       1180160   \n",
      "_________________________________________________________________\n",
      "Conv4_2 (Conv2D)             (None, 38, 38, 512)       2359808   \n",
      "_________________________________________________________________\n",
      "Conv4_3 (Conv2D)             (None, 38, 38, 512)       2359808   \n",
      "_________________________________________________________________\n",
      "max_pooling2d_3 (MaxPooling2 (None, 19, 19, 512)       0         \n",
      "_________________________________________________________________\n",
      "Conv5_1 (Conv2D)             (None, 19, 19, 512)       2359808   \n",
      "_________________________________________________________________\n",
      "Conv5_2 (Conv2D)             (None, 19, 19, 512)       2359808   \n",
      "_________________________________________________________________\n",
      "Conv5_3 (Conv2D)             (None, 19, 19, 512)       2359808   \n",
      "_________________________________________________________________\n",
      "FC6_to_Conv6 (Conv2D)        (None, 19, 19, 1024)      4719616   \n",
      "_________________________________________________________________\n",
      "FC7_to_Conv7 (Conv2D)        (None, 19, 19, 1024)      1049600   \n",
      "_________________________________________________________________\n",
      "Conv8_1 (Conv2D)             (None, 19, 19, 256)       262400    \n",
      "_________________________________________________________________\n",
      "Conv8_2 (Conv2D)             (None, 10, 10, 512)       1180160   \n",
      "_________________________________________________________________\n",
      "Conv9_1 (Conv2D)             (None, 10, 10, 128)       65664     \n",
      "_________________________________________________________________\n",
      "Conv9_2 (Conv2D)             (None, 5, 5, 256)         295168    \n",
      "_________________________________________________________________\n",
      "Conv10_1 (Conv2D)            (None, 5, 5, 128)         32896     \n",
      "_________________________________________________________________\n",
      "Conv10_2 (Conv2D)            (None, 3, 3, 256)         295168    \n",
      "_________________________________________________________________\n",
      "Conv11_1 (Conv2D)            (None, 3, 3, 128)         32896     \n",
      "_________________________________________________________________\n",
      "Conv11_2 (Conv2D)            (None, 2, 2, 256)         295168    \n",
      "_________________________________________________________________\n",
      "flatten_1 (Flatten)          (None, 1024)              0         \n",
      "_________________________________________________________________\n",
      "dense_3 (Dense)              (None, 10)                10250     \n",
      "=================================================================\n",
      "Total params: 22,953,674\n",
      "Trainable params: 22,953,674\n",
      "Non-trainable params: 0\n",
      "_________________________________________________________________\n"
     ]
    }
   ],
   "source": [
    "SSD300_model.summary()"
   ]
  },
  {
   "cell_type": "code",
   "execution_count": 5,
   "metadata": {},
   "outputs": [
    {
     "name": "stdout",
     "output_type": "stream",
     "text": [
      "tf.Tensor(\n",
      "[0.1000019  0.0999954  0.10000236 0.1000016  0.09999725 0.10000128\n",
      " 0.09999787 0.10000142 0.09999599 0.10000492], shape=(10,), dtype=float32)\n"
     ]
    }
   ],
   "source": [
    "test_input = tf.ones((10, 300, 300, 3), dtype=tf.dtypes.float32, name=None)\n",
    "result = SSD300_model(test_input)\n",
    "print(result[0])"
   ]
  },
  {
   "cell_type": "code",
   "execution_count": 6,
   "metadata": {},
   "outputs": [],
   "source": [
    "# load dataset\n",
    "(trainX, trainy), (testX, testy) = keras.datasets.cifar10.load_data()"
   ]
  },
  {
   "cell_type": "code",
   "execution_count": 7,
   "metadata": {},
   "outputs": [],
   "source": [
    "from sklearn.preprocessing import OneHotEncoder\n",
    "# get y label in one-hot encoding\n",
    "enc = OneHotEncoder(handle_unknown='ignore')\n",
    "enc.fit(trainy)\n",
    "trainy = enc.transform(trainy).toarray()"
   ]
  },
  {
   "cell_type": "code",
   "execution_count": 8,
   "metadata": {},
   "outputs": [],
   "source": [
    "from  skimage import transform\n",
    "import numpy as np\n",
    "\n",
    "# resize images\n",
    "train_x = trainX[:1000]\n",
    "train_y = trainy[:1000]\n",
    "new_shape = (300,300,3)\n",
    "train_x = np.asarray([transform.resize(image, new_shape) for image in train_x])"
   ]
  },
  {
   "cell_type": "code",
   "execution_count": 9,
   "metadata": {},
   "outputs": [
    {
     "name": "stdout",
     "output_type": "stream",
     "text": [
      " 2/32 [>.............................] - ETA: 11s - loss: 2.3026 - accuracy: 0.1094WARNING:tensorflow:Callbacks method `on_train_batch_end` is slow compared to the batch time (batch time: 0.2005s vs `on_train_batch_end` time: 0.5306s). Check your callbacks.\n",
      "32/32 [==============================] - 25s 768ms/step - loss: 2.3035 - accuracy: 0.1030\n"
     ]
    },
    {
     "data": {
      "text/plain": [
       "<tensorflow.python.keras.callbacks.History at 0x1b32e6a4850>"
      ]
     },
     "execution_count": 9,
     "metadata": {},
     "output_type": "execute_result"
    }
   ],
   "source": [
    "#train model\n",
    "SSD300_model.fit(train_x, train_y, batch_size=32, epochs=1)"
   ]
  },
  {
   "cell_type": "code",
   "execution_count": null,
   "metadata": {},
   "outputs": [],
   "source": []
  }
 ],
 "metadata": {
  "kernelspec": {
   "display_name": "Python 3",
   "language": "python",
   "name": "python3"
  },
  "language_info": {
   "codemirror_mode": {
    "name": "ipython",
    "version": 3
   },
   "file_extension": ".py",
   "mimetype": "text/x-python",
   "name": "python",
   "nbconvert_exporter": "python",
   "pygments_lexer": "ipython3",
   "version": "3.8.5"
  }
 },
 "nbformat": 4,
 "nbformat_minor": 4
}
