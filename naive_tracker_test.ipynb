{
 "cells": [
  {
   "cell_type": "code",
   "execution_count": 8,
   "metadata": {},
   "outputs": [],
   "source": [
    "%load_ext autoreload\n",
    "%autoreload 2"
   ]
  },
  {
   "cell_type": "markdown",
   "metadata": {},
   "source": [
    "## With SSD model implemented"
   ]
  },
  {
   "cell_type": "code",
   "execution_count": 38,
   "metadata": {},
   "outputs": [],
   "source": [
    "from data_management.VOC2012ManagerObjDetection import VOC2012ManagerObjDetection\n",
    "manager = VOC2012ManagerObjDetection(\"C:/Users/antho/Documents/GitHub/data/VOCdevkit/VOC2012/\")\n",
    "imgs, boxes_gt, classes_gt = manager.getRawData(manager.batches[2][15:20])\n",
    "\n",
    "import tensorflow as tf\n",
    "from models.SSD300 import SSD300\n",
    "SSD300_model = SSD300(21)\n",
    "confs, locs = SSD300_model(imgs)\n",
    "\n",
    "SSD300_model.load_weights(\"C:/Users/antho/Documents/GitHub/data/weights_alldata/ssd_weights_epoch_0380.h5\")\n",
    "video_path = \"C:/Users/antho/Documents/GitHub/data/video/boat.mp4\"\n",
    "out_path = \"C:/Users/antho/Documents/GitHub/data/video/\""
   ]
  },
  {
   "cell_type": "code",
   "execution_count": 39,
   "metadata": {},
   "outputs": [],
   "source": [
    "from utils.eval import *"
   ]
  },
  {
   "cell_type": "code",
   "execution_count": 132,
   "metadata": {},
   "outputs": [],
   "source": [
    "from models.NaiveTracker import NaiveTracker\n",
    "tracker = NaiveTracker()"
   ]
  },
  {
   "cell_type": "code",
   "execution_count": 133,
   "metadata": {},
   "outputs": [
    {
     "name": "stderr",
     "output_type": "stream",
     "text": [
      "100%|████████████████████████████████████████████████████████████████████████████████| 210/210 [00:11<00:00, 18.91it/s]\n"
     ]
    }
   ],
   "source": [
    "video_path = \"C:/Users/antho/Documents/GitHub/data/video/person_dog.mp4\"\n",
    "pltPredOnVideo(SSD300_model, manager, video_path,\n",
    "               out_path + \"person_dog_nms_tracker_resized_noskip3.gif\",\n",
    "               score_threshold=0.99, start_idx=60, end_idx=210, nms=True, skip=2,\n",
    "               resize=(500,200), tracker=tracker, fps=22)"
   ]
  },
  {
   "cell_type": "markdown",
   "metadata": {},
   "source": [
    "## With SSD from TensorFlow Hub"
   ]
  },
  {
   "cell_type": "code",
   "execution_count": 19,
   "metadata": {},
   "outputs": [
    {
     "name": "stdout",
     "output_type": "stream",
     "text": [
      "INFO:tensorflow:Saver not created because there are no variables in the graph to restore\n"
     ]
    },
    {
     "name": "stderr",
     "output_type": "stream",
     "text": [
      "INFO:tensorflow:Saver not created because there are no variables in the graph to restore\n"
     ]
    },
    {
     "data": {
      "text/plain": [
       "KeysView(_SignatureMap({'default': <ConcreteFunction pruned(images) at 0x1E1D9624BE0>}))"
      ]
     },
     "execution_count": 19,
     "metadata": {},
     "output_type": "execute_result"
    }
   ],
   "source": [
    "import tensorflow_hub as hub\n",
    "module_handle = \"https://tfhub.dev/google/openimages_v4/ssd/mobilenet_v2/1\"\n",
    "model = hub.load(module_handle)\n",
    "model.signatures.keys()"
   ]
  },
  {
   "cell_type": "code",
   "execution_count": 2,
   "metadata": {},
   "outputs": [],
   "source": [
    "detector = model.signatures['default']"
   ]
  },
  {
   "cell_type": "code",
   "execution_count": 3,
   "metadata": {},
   "outputs": [],
   "source": [
    "from utils.eval import *"
   ]
  },
  {
   "cell_type": "code",
   "execution_count": 142,
   "metadata": {},
   "outputs": [],
   "source": [
    "from models.NaiveTracker import NaiveTracker\n",
    "tracker = NaiveTracker()"
   ]
  },
  {
   "cell_type": "code",
   "execution_count": 143,
   "metadata": {},
   "outputs": [
    {
     "name": "stderr",
     "output_type": "stream",
     "text": [
      "100%|████████████████████████████████████████████████████████████████████████████████| 100/100 [00:18<00:00,  5.39it/s]\n"
     ]
    }
   ],
   "source": [
    "video_path = \"C:/Users/antho/Documents/GitHub/data/video/skate.mp4\"\n",
    "out_path = \"C:/Users/antho/Documents/GitHub/data/video/\"\n",
    "pltPredOnVideoTfHub(detector, video_path,\n",
    "                    out_path + \"skate_ssd_tfhub.gif\",\n",
    "                    score_threshold=0.3, start_idx=0, end_idx=100, skip=1,\n",
    "                    resize=(500,200), tracker=tracker, fps=30, input_shape=(512,512))"
   ]
  },
  {
   "cell_type": "code",
   "execution_count": null,
   "metadata": {},
   "outputs": [],
   "source": []
  }
 ],
 "metadata": {
  "kernelspec": {
   "display_name": "Python 3",
   "language": "python",
   "name": "python3"
  },
  "language_info": {
   "codemirror_mode": {
    "name": "ipython",
    "version": 3
   },
   "file_extension": ".py",
   "mimetype": "text/x-python",
   "name": "python",
   "nbconvert_exporter": "python",
   "pygments_lexer": "ipython3",
   "version": "3.8.5"
  }
 },
 "nbformat": 4,
 "nbformat_minor": 4
}
