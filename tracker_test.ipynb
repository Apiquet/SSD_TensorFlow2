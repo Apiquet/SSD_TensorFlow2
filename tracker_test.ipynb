{
 "cells": [
  {
   "cell_type": "code",
   "execution_count": 1,
   "metadata": {},
   "outputs": [],
   "source": [
    "%load_ext autoreload\n",
    "%autoreload 2"
   ]
  },
  {
   "cell_type": "code",
   "execution_count": 2,
   "metadata": {},
   "outputs": [],
   "source": [
    "from data_management.VOC2012ManagerObjDetection import VOC2012ManagerObjDetection\n",
    "manager = VOC2012ManagerObjDetection(\"C:/Users/antho/Documents/GitHub/data/VOCdevkit/VOC2012/\")\n",
    "imgs, boxes_gt, classes_gt = manager.getRawData(manager.batches[2][15:20])\n",
    "\n",
    "from models.SSD300 import SSD300\n",
    "import tensorflow as tf\n",
    "SSD300_model = SSD300(21)\n",
    "confs, locs = SSD300_model(imgs)\n",
    "\n",
    "SSD300_model.load_weights(\"C:/Users/antho/Documents/GitHub/data/weights_alldata/ssd_weights_epoch_0380.h5\")\n",
    "video_path = \"C:/Users/antho/Documents/GitHub/data/video/boat.mp4\"\n",
    "out_path = \"C:/Users/antho/Documents/GitHub/data/video/\""
   ]
  },
  {
   "cell_type": "code",
   "execution_count": 3,
   "metadata": {},
   "outputs": [],
   "source": [
    "from utils.eval import *"
   ]
  },
  {
   "cell_type": "code",
   "execution_count": 8,
   "metadata": {},
   "outputs": [],
   "source": [
    "from models.NaiveTracker import NaiveTracker\n",
    "tracker = NaiveTracker()"
   ]
  },
  {
   "cell_type": "code",
   "execution_count": 7,
   "metadata": {},
   "outputs": [
    {
     "name": "stderr",
     "output_type": "stream",
     "text": [
      "100%|████████████████████████████████████████████████████████████████████████████████| 210/210 [00:10<00:00, 20.75it/s]\n"
     ]
    }
   ],
   "source": [
    "video_path = \"C:/Users/antho/Documents/GitHub/data/video/person_dog.mp4\"\n",
    "pltPredOnVideo(SSD300_model, manager, video_path,\n",
    "               out_path + \"person_dog_nms_tracker_resized_noskip3.gif\",\n",
    "               score_threshold=0.99, start_idx=60, end_idx=210, nms=True, skip=2,\n",
    "               resize=(500,200), tracker=tracker, fps=22)"
   ]
  },
  {
   "cell_type": "code",
   "execution_count": 9,
   "metadata": {},
   "outputs": [
    {
     "name": "stderr",
     "output_type": "stream",
     "text": [
      "100%|████████████████████████████████████████████████████████████████████████████████| 200/200 [00:11<00:00, 16.76it/s]\n"
     ]
    }
   ],
   "source": [
    "video_path = \"C:/Users/antho/Documents/GitHub/data/video/dogs.mp4\"\n",
    "pltPredOnVideo(SSD300_model, manager, video_path,\n",
    "               out_path + \"dogs_tracking_1.gif\",\n",
    "               score_threshold=0.99, start_idx=10, end_idx=200, nms=True, skip=2,\n",
    "               resize=(500,200), tracker=tracker, fps=20)"
   ]
  },
  {
   "cell_type": "code",
   "execution_count": null,
   "metadata": {},
   "outputs": [],
   "source": []
  },
  {
   "cell_type": "code",
   "execution_count": null,
   "metadata": {},
   "outputs": [],
   "source": []
  }
 ],
 "metadata": {
  "kernelspec": {
   "display_name": "Python 3",
   "language": "python",
   "name": "python3"
  },
  "language_info": {
   "codemirror_mode": {
    "name": "ipython",
    "version": 3
   },
   "file_extension": ".py",
   "mimetype": "text/x-python",
   "name": "python",
   "nbconvert_exporter": "python",
   "pygments_lexer": "ipython3",
   "version": "3.8.5"
  }
 },
 "nbformat": 4,
 "nbformat_minor": 4
}
