{
 "cells": [
  {
   "cell_type": "code",
   "execution_count": 1,
   "metadata": {},
   "outputs": [],
   "source": [
    "%load_ext autoreload\n",
    "%autoreload 2"
   ]
  },
  {
   "cell_type": "code",
   "execution_count": 2,
   "metadata": {},
   "outputs": [],
   "source": [
    "from data_management.VOC2012ManagerObjDetection import VOC2012ManagerObjDetection\n",
    "manager = VOC2012ManagerObjDetection(\"C:/Users/antho/Documents/GitHub/data/VOCdevkit/VOC2012/\")\n",
    "imgs, boxes_gt, classes_gt = manager.getRawData(manager.batches[2][15:20])\n",
    "\n",
    "from models.SSD300 import SSD300\n",
    "import tensorflow as tf\n",
    "SSD300_model = SSD300(21)\n",
    "confs, locs = SSD300_model(imgs)\n",
    "\n",
    "SSD300_model.load_weights(\"C:/Users/antho/Documents/GitHub/data/weights_alldata/ssd_weights_epoch_0380.h5\")\n",
    "video_path = \"C:/Users/antho/Documents/GitHub/data/video/boat.mp4\"\n",
    "out_path = \"C:/Users/antho/Documents/GitHub/data/video/\""
   ]
  },
  {
   "cell_type": "code",
   "execution_count": 3,
   "metadata": {},
   "outputs": [],
   "source": [
    "from utils.eval import *"
   ]
  },
  {
   "cell_type": "code",
   "execution_count": 18,
   "metadata": {},
   "outputs": [],
   "source": [
    "from models.NaiveTracker import NaiveTracker\n",
    "tracker = NaiveTracker()"
   ]
  },
  {
   "cell_type": "code",
   "execution_count": null,
   "metadata": {},
   "outputs": [
    {
     "name": "stderr",
     "output_type": "stream",
     "text": [
      " 59%|████████████████████████████████████████████████▏                                 | 20/34 [00:01<00:01, 12.92it/s]"
     ]
    }
   ],
   "source": [
    "video_path = \"C:/Users/antho/Documents/GitHub/data/video/person_dog.mp4\"\n",
    "pltPredOnVideoOneSSDCall(SSD300_model, manager, video_path, out_path + \"person_dog_nms_tracker_resized3.gif\",\n",
    "                         score_threshold=0.99, start_idx=50, end_idx=220, nms=True, skip=5,\n",
    "                         resize=(500,166), tracker=tracker)"
   ]
  },
  {
   "cell_type": "code",
   "execution_count": null,
   "metadata": {},
   "outputs": [],
   "source": []
  },
  {
   "cell_type": "code",
   "execution_count": null,
   "metadata": {},
   "outputs": [],
   "source": []
  }
 ],
 "metadata": {
  "kernelspec": {
   "display_name": "Python 3",
   "language": "python",
   "name": "python3"
  },
  "language_info": {
   "codemirror_mode": {
    "name": "ipython",
    "version": 3
   },
   "file_extension": ".py",
   "mimetype": "text/x-python",
   "name": "python",
   "nbconvert_exporter": "python",
   "pygments_lexer": "ipython3",
   "version": "3.8.5"
  }
 },
 "nbformat": 4,
 "nbformat_minor": 4
}
